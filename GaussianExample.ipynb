{
 "cells": [
  {
   "cell_type": "markdown",
   "metadata": {},
   "source": [
    "From https://github.com/hep-lbdl/OmniFold/"
   ]
  },
  {
   "cell_type": "markdown",
   "metadata": {
    "ExecuteTime": {
     "end_time": "2020-11-17T03:48:59.924067Z",
     "start_time": "2020-11-17T03:48:57.190005Z"
    },
    "tags": []
   },
   "source": [
    "## Imports and settings"
   ]
  },
  {
   "cell_type": "code",
   "execution_count": 2,
   "metadata": {},
   "outputs": [
    {
     "name": "stderr",
     "output_type": "stream",
     "text": [
      "2024-09-11 19:26:51.125276: I tensorflow/core/util/port.cc:153] oneDNN custom operations are on. You may see slightly different numerical results due to floating-point round-off errors from different computation orders. To turn them off, set the environment variable `TF_ENABLE_ONEDNN_OPTS=0`.\n",
      "2024-09-11 19:26:51.188617: E external/local_xla/xla/stream_executor/cuda/cuda_fft.cc:485] Unable to register cuFFT factory: Attempting to register factory for plugin cuFFT when one has already been registered\n",
      "2024-09-11 19:26:51.196533: E external/local_xla/xla/stream_executor/cuda/cuda_dnn.cc:8454] Unable to register cuDNN factory: Attempting to register factory for plugin cuDNN when one has already been registered\n",
      "2024-09-11 19:26:51.198888: E external/local_xla/xla/stream_executor/cuda/cuda_blas.cc:1452] Unable to register cuBLAS factory: Attempting to register factory for plugin cuBLAS when one has already been registered\n",
      "2024-09-11 19:26:51.205654: I tensorflow/core/platform/cpu_feature_guard.cc:210] This TensorFlow binary is optimized to use available CPU instructions in performance-critical operations.\n",
      "To enable the following instructions: AVX2 AVX512F AVX512_VNNI AVX512_BF16 FMA, in other operations, rebuild TensorFlow with the appropriate compiler flags.\n",
      "2024-09-11 19:26:51.623891: W tensorflow/compiler/tf2tensorrt/utils/py_utils.cc:38] TF-TRT Warning: Could not find TensorRT\n"
     ]
    }
   ],
   "source": [
    "import numpy as np\n",
    "from matplotlib import pyplot as plt\n",
    "\n",
    "from sklearn.model_selection import train_test_split\n",
    "import tensorflow as tf\n",
    "from tensorflow.keras.layers import Dense, Input\n",
    "from tensorflow.keras.models import Model\n",
    "from tensorflow.keras.callbacks import EarlyStopping\n",
    "\n",
    "from scipy.stats import norm"
   ]
  },
  {
   "cell_type": "code",
   "execution_count": 3,
   "metadata": {
    "tags": []
   },
   "outputs": [
    {
     "name": "stdout",
     "output_type": "stream",
     "text": [
      "[PhysicalDevice(name='/physical_device:GPU:0', device_type='GPU')]\n"
     ]
    },
    {
     "name": "stderr",
     "output_type": "stream",
     "text": [
      "WARNING: All log messages before absl::InitializeLog() is called are written to STDERR\n",
      "I0000 00:00:1726100811.916640  418672 cuda_executor.cc:1015] successful NUMA node read from SysFS had negative value (-1), but there must be at least one NUMA node, so returning NUMA node zero. See more at https://github.com/torvalds/linux/blob/v6.0/Documentation/ABI/testing/sysfs-bus-pci#L344-L355\n",
      "I0000 00:00:1726100812.696155  418672 cuda_executor.cc:1015] successful NUMA node read from SysFS had negative value (-1), but there must be at least one NUMA node, so returning NUMA node zero. See more at https://github.com/torvalds/linux/blob/v6.0/Documentation/ABI/testing/sysfs-bus-pci#L344-L355\n",
      "I0000 00:00:1726100812.696295  418672 cuda_executor.cc:1015] successful NUMA node read from SysFS had negative value (-1), but there must be at least one NUMA node, so returning NUMA node zero. See more at https://github.com/torvalds/linux/blob/v6.0/Documentation/ABI/testing/sysfs-bus-pci#L344-L355\n"
     ]
    }
   ],
   "source": [
    "gpus = tf.config.experimental.list_physical_devices('GPU')\n",
    "print(gpus)\n",
    "tf.config.experimental.set_virtual_device_configuration(gpus[0], [tf.config.experimental.VirtualDeviceConfiguration(memory_limit=1024)]) #in MB"
   ]
  },
  {
   "cell_type": "code",
   "execution_count": 4,
   "metadata": {
    "ExecuteTime": {
     "end_time": "2020-11-17T03:48:59.971307Z",
     "start_time": "2020-11-17T03:48:59.954584Z"
    },
    "tags": []
   },
   "outputs": [
    {
     "name": "stdout",
     "output_type": "stream",
     "text": [
      "2.17.0\n"
     ]
    }
   ],
   "source": [
    "# Check Versions\n",
    "import tensorflow as tf\n",
    "print(tf.__version__)"
   ]
  },
  {
   "cell_type": "markdown",
   "metadata": {},
   "source": [
    "# OmniFold Gaussian Toy Example"
   ]
  },
  {
   "cell_type": "markdown",
   "metadata": {},
   "source": [
    "There are five datasets:\n",
    "\n",
    "**Natural**\n",
    "* Truth -> the target\n",
    "* Data -> what we actually observe from the detector\n",
    "\n",
    "**Synthetic**\n",
    "* Generation -> particle-level Monte Carlo\n",
    "* Simulation -> result of passing the particle-level Monte Carlo through the detector emulation; we have pairs of events (generated, simulated)\n",
    "* Background -> simulations (possibly partially or wholely derived from data) of non-target processes"
   ]
  },
  {
   "cell_type": "markdown",
   "metadata": {},
   "source": [
    "The unfolding has 4 parts:\n",
    "\n",
    "1. Remove background\n",
    "2. Account for events that pass reco but not true\n",
    "3. Correct for detector distortions (deconvolution)\n",
    "4. Account for events that pass true but not reco\n",
    "\n",
    "In what follows, we do step (1) and then (2) - (4) are combined."
   ]
  },
  {
   "cell_type": "markdown",
   "metadata": {},
   "source": [
    "## Setup the Datasets"
   ]
  },
  {
   "cell_type": "code",
   "execution_count": 5,
   "metadata": {
    "ExecuteTime": {
     "end_time": "2020-11-17T03:48:59.978107Z",
     "start_time": "2020-11-17T03:48:59.974831Z"
    },
    "tags": []
   },
   "outputs": [],
   "source": [
    "mu0 = 0\n",
    "sigma0 = 1\n",
    "\n",
    "eff = 0.1 #fraction of true but not reco\n",
    "fake = 0.1 #fraction of reco but not true\n",
    "\n",
    "back = 0.1 #fraction of a background process that we would like to subtract"
   ]
  },
  {
   "cell_type": "code",
   "execution_count": 6,
   "metadata": {
    "tags": []
   },
   "outputs": [],
   "source": [
    "def reweighting(xx,mu0,mu1,sigma0,sigma1):\n",
    "    starting = norm.pdf((xx-mu0)/sigma0)\n",
    "    target = norm.pdf((xx-mu1)/sigma1)\n",
    "    return target/starting"
   ]
  },
  {
   "cell_type": "code",
   "execution_count": 7,
   "metadata": {
    "tags": []
   },
   "outputs": [
    {
     "data": {
      "text/plain": [
       "(array([6.55977957e-06, 7.22080477e-05, 5.25047463e-04, 3.14491649e-03,\n",
       "        1.32840589e-02, 4.83489682e-02, 1.16780627e-01, 2.12837062e-01,\n",
       "        3.54036483e-01, 3.96886898e-01, 3.54778592e-01, 2.27099878e-01,\n",
       "        1.10204903e-01, 4.48159329e-02, 1.36285702e-02, 2.90101615e-03,\n",
       "        5.72539154e-04, 6.80104814e-05, 7.73006027e-06]),\n",
       " array([-5.        , -4.47368421, -3.94736842, -3.42105263, -2.89473684,\n",
       "        -2.36842105, -1.84210526, -1.31578947, -0.78947368, -0.26315789,\n",
       "         0.26315789,  0.78947368,  1.31578947,  1.84210526,  2.36842105,\n",
       "         2.89473684,  3.42105263,  3.94736842,  4.47368421,  5.        ]),\n",
       " [<matplotlib.patches.Polygon at 0x7fa07f8e1ed0>])"
      ]
     },
     "execution_count": 7,
     "metadata": {},
     "output_type": "execute_result"
    },
    {
     "data": {
      "image/png": "[encoded data removed]",
      "text/plain": [
       "<Figure size 640x480 with 1 Axes>"
      ]
     },
     "metadata": {},
     "output_type": "display_data"
    }
   ],
   "source": [
    "xx = np.linspace(-5,5,20)\n",
    "plt.hist(np.random.normal(0,1,10000),bins=xx,density=True)\n",
    "plt.hist(np.random.normal(0,2,10000),bins=xx,alpha=0.5,density=True)\n",
    "vals = np.random.normal(0,2,10000)\n",
    "plt.hist(vals,bins=xx,weights=reweighting(vals,0,0,2,1),density=True,histtype=\"step\",color=\"black\")"
   ]
  },
  {
   "cell_type": "code",
   "execution_count": 8,
   "metadata": {
    "ExecuteTime": {
     "end_time": "2020-11-17T03:49:24.308730Z",
     "start_time": "2020-11-17T03:48:59.981078Z"
    },
    "tags": []
   },
   "outputs": [],
   "source": [
    "N = 10**5\n",
    "# param = (mu, sigma)\n",
    "theta0_param = (mu0, sigma0)  # synthetic sample\n",
    "theta_unknown_param = (0.2, 0.8)  # this is the data (the target)\n",
    "background_param = (0, 1.2)  # background\n",
    "epsilon = sigma0 / 2.  # Smearing width\n",
    "\n",
    "dummyval = -10 #a value for examples that don't pass one of the measured/ideal selections\n",
    "\n",
    "#Synthetic\n",
    "x_gen = np.random.normal(theta0_param[0], theta0_param[1],N)\n",
    "x_sim = np.array([(x + np.random.normal(0, epsilon)) for x in x_gen])\n",
    "pass_reco = np.random.binomial(1,1.-eff,len(x_gen))\n",
    "pass_truth = np.random.binomial(1,1.-fake,len(x_gen))\n",
    "x_gen[pass_truth==0] = dummyval\n",
    "x_sim[pass_reco==0] = dummyval\n",
    "w_synth = np.ones(len(x_gen))\n",
    "w_synth = w_synth*len(w_synth)/np.sum(w_synth)\n",
    "\n",
    "x_background = np.random.normal(background_param[0],background_param[1], int(N*back))\n",
    "w_back = reweighting(x_background,background_param[0],background_param[0],background_param[1],background_param[1]*0.8)\n",
    "w_back = w_back*len(w_back)/np.sum(w_back) #pick weights so that they don't change sum (N.B. this changes statistical power, but I don't care for this example)\n",
    "x_sim_withback = np.concatenate([x_sim,x_background]) #sim with background added\n",
    "x_gen_withback= np.concatenate([x_gen,-np.ones(int(N*back))*dummyval]) #gen with background added; since background has no corresponding truth in the fiducial volume, set to dummy value\n",
    "w_synth_withback = np.concatenate([w_synth,w_back])\n",
    "\n",
    "x_synth = np.stack([x_gen, x_sim], axis=1)\n",
    "y_synth = np.zeros(len(x_synth))\n",
    "\n",
    "#Natural\n",
    "x_truth = np.random.normal(theta_unknown_param[0],theta_unknown_param[1], N) # Nature, particle-level analog\n",
    "x_data = np.array([(x + np.random.normal(0, epsilon)) for x in x_truth]) # Measured Data analog\n",
    "pass_reco = np.random.binomial(1,1.-eff,len(x_truth))\n",
    "pass_truth = np.random.binomial(1,1.-fake,len(x_truth))\n",
    "x_truth[pass_truth==0] = dummyval\n",
    "x_data[pass_reco==0] = dummyval #emulates cuts done in an analysis\n",
    "\n",
    "x_background_real = np.random.normal(background_param[0],background_param[1]*0.8, int(N*back))\n",
    "x_data_withback = np.concatenate([x_data,x_background_real]) #Data+Background\n",
    "x_truth_withback = np.concatenate([x_truth,-np.ones(int(N*back))*dummyval]) #Nature+background\n",
    "\n",
    "x_natural = np.stack([x_truth, x_data], axis=1)\n",
    "y_natural = np.ones(len(x_natural))"
   ]
  },
  {
   "cell_type": "code",
   "execution_count": 9,
   "metadata": {
    "tags": []
   },
   "outputs": [
    {
     "data": {
      "text/plain": [
       "(0.0, 3209.4)"
      ]
     },
     "execution_count": 9,
     "metadata": {},
     "output_type": "execute_result"
    },
    {
     "data": {
      "image/png": "[encoded data removed]",
      "text/plain": [
       "<Figure size 640x480 with 1 Axes>"
      ]
     },
     "metadata": {},
     "output_type": "display_data"
    }
   ],
   "source": [
    "#Check that I did the background weighting properly.\n",
    "binning = np.linspace(-5,5,20)\n",
    "ns,_,_=plt.hist(x_background,bins=binning,alpha=0.5,label=\"Sim. back., unweighted\")\n",
    "_,_,_=plt.hist(x_background,bins=binning,weights=w_back,alpha=0.5,label=\"Sim. back., weighted\")\n",
    "_,_,_=plt.hist(x_background_real,bins=binning,histtype=\"step\",color=\"black\",label=\"Real back.\")\n",
    "plt.legend(frameon=False,loc=\"upper left\")\n",
    "plt.ylabel(\"Number of events\")\n",
    "plt.xlabel(\"x\")\n",
    "plt.ylim([0,1.8*np.max(ns)])"
   ]
  },
  {
   "cell_type": "code",
   "execution_count": 10,
   "metadata": {
    "tags": []
   },
   "outputs": [
    {
     "data": {
      "text/plain": [
       "(0.0, 33919.466796643384)"
      ]
     },
     "execution_count": 10,
     "metadata": {},
     "output_type": "execute_result"
    },
    {
     "data": {
      "image/png": "[encoded data removed]",
      "text/plain": [
       "<Figure size 640x480 with 1 Axes>"
      ]
     },
     "metadata": {},
     "output_type": "display_data"
    }
   ],
   "source": [
    "#Now the full data/sim. including background\n",
    "binning = np.linspace(-5,5,20)\n",
    "ns,_,_=plt.hist(x_sim_withback[x_sim_withback!=dummyval],weights=w_synth_withback[x_sim_withback!=dummyval],bins=binning,alpha=0.5,label=\"Sim. w/ back\")\n",
    "_,_,_=plt.hist(x_background,bins=binning,weights=w_back,alpha=0.5,label=\"Sim. back.\")\n",
    "dplot=np.histogram(x_data_withback[x_data_withback!=dummyval],bins=binning)\n",
    "plt.plot(0.5*(dplot[1][1:]+dplot[1][:-1]),dplot[0],label=\"Data w/ back\",ls=\"\",marker='o',color=\"black\")\n",
    "_,_,_=plt.hist(x_background_real,bins=binning,alpha=0.5,label=\"Data back.\",histtype=\"step\",color=\"black\")\n",
    "plt.legend(frameon=False,loc=\"upper left\")\n",
    "plt.ylabel(\"Number of events\")\n",
    "plt.xlabel(\"x\")\n",
    "plt.ylim([0,1.8*np.max(ns)])"
   ]
  },
  {
   "cell_type": "markdown",
   "metadata": {},
   "source": [
    "## Let's first subtract the background\n",
    "(see https://arxiv.org/abs/2007.11586 and https://arxiv.org/abs/2105.04448 for details)"
   ]
  },
  {
   "cell_type": "markdown",
   "metadata": {},
   "source": [
    "Loss function for this step is\n",
    "\n",
    "$L[f] = - \\sum_\\text{data} \\log(f(x_i)) + \\sum_\\text{back. MC} w_i\\log(f(x_i)) - \\sum_\\text{data} \\log(1-f(x_i))$\n",
    "\n",
    "The binary cross entropy loss is\n",
    "\n",
    "$L[f] = -\\sum y_i\\log(f(x_i)) -\\sum (1-y_i)\\log(f(x_i))$\n",
    "\n",
    "Thus, in order to achieve the desired loss, we add the data in twice, once with $y = 1$ and once with $y = 0$ and then we add in the background simulation with a negative weight and $y=1$."
   ]
  },
  {
   "cell_type": "code",
   "execution_count": 11,
   "metadata": {
    "tags": []
   },
   "outputs": [
    {
     "name": "stderr",
     "output_type": "stream",
     "text": [
      "I0000 00:00:1726100813.099543  418672 cuda_executor.cc:1015] successful NUMA node read from SysFS had negative value (-1), but there must be at least one NUMA node, so returning NUMA node zero. See more at https://github.com/torvalds/linux/blob/v6.0/Documentation/ABI/testing/sysfs-bus-pci#L344-L355\n",
      "I0000 00:00:1726100813.099686  418672 cuda_executor.cc:1015] successful NUMA node read from SysFS had negative value (-1), but there must be at least one NUMA node, so returning NUMA node zero. See more at https://github.com/torvalds/linux/blob/v6.0/Documentation/ABI/testing/sysfs-bus-pci#L344-L355\n",
      "I0000 00:00:1726100813.099772  418672 cuda_executor.cc:1015] successful NUMA node read from SysFS had negative value (-1), but there must be at least one NUMA node, so returning NUMA node zero. See more at https://github.com/torvalds/linux/blob/v6.0/Documentation/ABI/testing/sysfs-bus-pci#L344-L355\n",
      "I0000 00:00:1726100813.178729  418672 cuda_executor.cc:1015] successful NUMA node read from SysFS had negative value (-1), but there must be at least one NUMA node, so returning NUMA node zero. See more at https://github.com/torvalds/linux/blob/v6.0/Documentation/ABI/testing/sysfs-bus-pci#L344-L355\n",
      "I0000 00:00:1726100813.178848  418672 cuda_executor.cc:1015] successful NUMA node read from SysFS had negative value (-1), but there must be at least one NUMA node, so returning NUMA node zero. See more at https://github.com/torvalds/linux/blob/v6.0/Documentation/ABI/testing/sysfs-bus-pci#L344-L355\n",
      "I0000 00:00:1726100813.178938  418672 cuda_executor.cc:1015] successful NUMA node read from SysFS had negative value (-1), but there must be at least one NUMA node, so returning NUMA node zero. See more at https://github.com/torvalds/linux/blob/v6.0/Documentation/ABI/testing/sysfs-bus-pci#L344-L355\n",
      "2024-09-11 19:26:53.179023: I tensorflow/core/common_runtime/gpu/gpu_device.cc:2021] Created device /job:localhost/replica:0/task:0/device:GPU:0 with 1024 MB memory:  -> device: 0, name: NVIDIA GeForce RTX 3090, pci bus id: 0000:01:00.0, compute capability: 8.6\n",
      "WARNING: All log messages before absl::InitializeLog() is called are written to STDERR\n",
      "I0000 00:00:1726100814.074289  418816 service.cc:146] XLA service 0x7f9ec4004d40 initialized for platform CUDA (this does not guarantee that XLA will be used). Devices:\n",
      "I0000 00:00:1726100814.074304  418816 service.cc:154]   StreamExecutor device (0): NVIDIA GeForce RTX 3090, Compute Capability 8.6\n",
      "2024-09-11 19:26:54.094626: I tensorflow/compiler/mlir/tensorflow/utils/dump_mlir_util.cc:268] disabling MLIR crash reproducer, set env var `MLIR_CRASH_REPRODUCER_DIRECTORY` to enable.\n",
      "2024-09-11 19:26:54.311065: I external/local_xla/xla/stream_executor/cuda/cuda_dnn.cc:531] Loaded cuDNN version 8907\n",
      "2024-09-11 19:26:54.863137: I external/local_xla/xla/stream_executor/cuda/cuda_asm_compiler.cc:393] ptxas warning : Registers are spilled to local memory in function 'gemm_fusion_dot_470', 100 bytes spill stores, 100 bytes spill loads\n",
      "\n",
      "2024-09-11 19:26:54.877406: I external/local_xla/xla/stream_executor/cuda/cuda_asm_compiler.cc:393] ptxas warning : Registers are spilled to local memory in function 'gemm_fusion_dot_470', 20 bytes spill stores, 20 bytes spill loads\n",
      "\n",
      "2024-09-11 19:26:54.911647: I external/local_xla/xla/stream_executor/cuda/cuda_asm_compiler.cc:393] ptxas warning : Registers are spilled to local memory in function 'gemm_fusion_dot_470', 136 bytes spill stores, 136 bytes spill loads\n",
      "\n",
      "2024-09-11 19:26:54.992944: I external/local_xla/xla/stream_executor/cuda/cuda_asm_compiler.cc:393] ptxas warning : Registers are spilled to local memory in function 'gemm_fusion_dot_470', 80 bytes spill stores, 80 bytes spill loads\n",
      "\n",
      "2024-09-11 19:26:55.055277: I external/local_xla/xla/stream_executor/cuda/cuda_asm_compiler.cc:393] ptxas warning : Registers are spilled to local memory in function 'gemm_fusion_dot_163', 272 bytes spill stores, 272 bytes spill loads\n",
      "\n",
      "2024-09-11 19:26:55.291163: I external/local_xla/xla/stream_executor/cuda/cuda_asm_compiler.cc:393] ptxas warning : Registers are spilled to local memory in function 'gemm_fusion_dot_470', 44 bytes spill stores, 44 bytes spill loads\n",
      "\n",
      "2024-09-11 19:26:55.313282: I external/local_xla/xla/stream_executor/cuda/cuda_asm_compiler.cc:393] ptxas warning : Registers are spilled to local memory in function 'gemm_fusion_dot_470', 160 bytes spill stores, 160 bytes spill loads\n",
      "\n",
      "2024-09-11 19:26:55.357398: I external/local_xla/xla/stream_executor/cuda/cuda_asm_compiler.cc:393] ptxas warning : Registers are spilled to local memory in function 'gemm_fusion_dot_472', 84 bytes spill stores, 84 bytes spill loads\n",
      "\n",
      "2024-09-11 19:26:55.516927: I external/local_xla/xla/stream_executor/cuda/cuda_asm_compiler.cc:393] ptxas warning : Registers are spilled to local memory in function 'gemm_fusion_dot_472', 164 bytes spill stores, 164 bytes spill loads\n",
      "\n",
      "I0000 00:00:1726100816.239534  418816 device_compiler.h:188] Compiled cluster using XLA!  This line is logged at most once for the lifetime of the process.\n",
      "2024-09-11 19:26:56.851610: I external/local_xla/xla/stream_executor/cuda/cuda_asm_compiler.cc:393] ptxas warning : Registers are spilled to local memory in function 'gemm_fusion_dot_470', 100 bytes spill stores, 100 bytes spill loads\n",
      "\n",
      "2024-09-11 19:26:56.938148: I external/local_xla/xla/stream_executor/cuda/cuda_asm_compiler.cc:393] ptxas warning : Registers are spilled to local memory in function 'gemm_fusion_dot_470', 136 bytes spill stores, 136 bytes spill loads\n",
      "\n",
      "2024-09-11 19:26:56.943215: I external/local_xla/xla/stream_executor/cuda/cuda_asm_compiler.cc:393] ptxas warning : Registers are spilled to local memory in function 'gemm_fusion_dot_163', 272 bytes spill stores, 272 bytes spill loads\n",
      "\n",
      "2024-09-11 19:26:57.105851: I external/local_xla/xla/stream_executor/cuda/cuda_asm_compiler.cc:393] ptxas warning : Registers are spilled to local memory in function 'gemm_fusion_dot_470', 20 bytes spill stores, 20 bytes spill loads\n",
      "\n",
      "2024-09-11 19:26:57.217710: I external/local_xla/xla/stream_executor/cuda/cuda_asm_compiler.cc:393] ptxas warning : Registers are spilled to local memory in function 'gemm_fusion_dot_470', 80 bytes spill stores, 80 bytes spill loads\n",
      "\n",
      "2024-09-11 19:26:57.219691: I external/local_xla/xla/stream_executor/cuda/cuda_asm_compiler.cc:393] ptxas warning : Registers are spilled to local memory in function 'gemm_fusion_dot_470', 72 bytes spill stores, 72 bytes spill loads\n",
      "\n",
      "2024-09-11 19:26:57.251807: I external/local_xla/xla/stream_executor/cuda/cuda_asm_compiler.cc:393] ptxas warning : Registers are spilled to local memory in function 'gemm_fusion_dot_470', 160 bytes spill stores, 160 bytes spill loads\n",
      "\n",
      "2024-09-11 19:26:57.289489: I external/local_xla/xla/stream_executor/cuda/cuda_asm_compiler.cc:393] ptxas warning : Registers are spilled to local memory in function 'gemm_fusion_dot_470', 192 bytes spill stores, 192 bytes spill loads\n",
      "\n",
      "2024-09-11 19:26:57.387209: I external/local_xla/xla/stream_executor/cuda/cuda_asm_compiler.cc:393] ptxas warning : Registers are spilled to local memory in function 'gemm_fusion_dot_472', 232 bytes spill stores, 232 bytes spill loads\n",
      "\n",
      "2024-09-11 19:26:57.448342: I external/local_xla/xla/stream_executor/cuda/cuda_asm_compiler.cc:393] ptxas warning : Registers are spilled to local memory in function 'gemm_fusion_dot_472', 84 bytes spill stores, 84 bytes spill loads\n",
      "\n",
      "2024-09-11 19:26:58.921268: I external/local_xla/xla/stream_executor/cuda/cuda_asm_compiler.cc:393] ptxas warning : Registers are spilled to local memory in function 'gemm_fusion_dot_31', 272 bytes spill stores, 272 bytes spill loads\n",
      "\n"
     ]
    },
    {
     "name": "stdout",
     "output_type": "stream",
     "text": [
      "Epoch 13: early stopping\n",
      "Restoring model weights from the end of the best epoch: 3.\n"
     ]
    },
    {
     "data": {
      "text/plain": [
       "<keras.src.callbacks.history.History at 0x7fa070577b10>"
      ]
     },
     "execution_count": 11,
     "metadata": {},
     "output_type": "execute_result"
    }
   ],
   "source": [
    "x_data_and_MCback = np.concatenate([x_background[x_background!=dummyval],\n",
    "                                    x_data_withback[x_data_withback!=dummyval],\n",
    "                                    x_data_withback[x_data_withback!=dummyval]])\n",
    "    \n",
    "y_data_and_MCback = np.concatenate([np.ones(len(x_background[x_background!=dummyval])),\n",
    "                                    np.ones(len(x_data_withback[x_data_withback!=dummyval])),\n",
    "                                    np.zeros(len(x_data_withback[x_data_withback!=dummyval]))])\n",
    "    \n",
    "W_data_and_MCback = np.concatenate([-1.*w_back[x_background!=dummyval],\n",
    "                                    np.ones(len(x_data_withback[x_data_withback!=dummyval])),\n",
    "                                    np.ones(len(x_data_withback[x_data_withback!=dummyval]))])\n",
    "\n",
    "X_train_1, X_test_1, Y_train_1, Y_test_1, w_train_1, w_test_1 = train_test_split(\n",
    "    x_data_and_MCback, y_data_and_MCback, W_data_and_MCback)\n",
    "\n",
    "#I did not optimize this network at all; it should probably be quite good for simple problems.  Could also swap out with a BDT for low-dimensional/tabular data.\n",
    "inputs = Input((1, ))\n",
    "hidden_layer_1 = Dense(50, activation='relu')(inputs)\n",
    "hidden_layer_2 = Dense(50, activation='relu')(hidden_layer_1)\n",
    "hidden_layer_3 = Dense(50, activation='relu')(hidden_layer_2)\n",
    "outputs = Dense(1, activation='sigmoid')(hidden_layer_3)\n",
    "\n",
    "model = Model(inputs=inputs, outputs=outputs)\n",
    "\n",
    "earlystopping = EarlyStopping(patience=10,\n",
    "                              verbose=1,\n",
    "                              restore_best_weights=True)\n",
    "    \n",
    "model.compile(loss='binary_crossentropy',\n",
    "              optimizer='Adam',\n",
    "              metrics=['accuracy'],\n",
    "              weighted_metrics=[]) #to silence an annoying warning ... could compute the weighted accuracy\n",
    "model.fit(X_train_1,\n",
    "          Y_train_1,\n",
    "          sample_weight=w_train_1,\n",
    "          epochs=200,\n",
    "          batch_size=10000,\n",
    "          validation_data=(X_test_1, Y_test_1, w_test_1),\n",
    "          callbacks=[earlystopping],\n",
    "          verbose=0)"
   ]
  },
  {
   "cell_type": "markdown",
   "metadata": {},
   "source": [
    "### Check that the subtraction worked!"
   ]
  },
  {
   "cell_type": "code",
   "execution_count": 12,
   "metadata": {
    "tags": []
   },
   "outputs": [],
   "source": [
    "def reweight(events):\n",
    "    f = model.predict(events, batch_size=10000)\n",
    "    weights = f / (1. - f) #for binary cross entropy - see refs. above and https://arxiv.org/abs/2101.07263 for more info.\n",
    "    return np.squeeze(np.nan_to_num(weights)) "
   ]
  },
  {
   "cell_type": "code",
   "execution_count": 13,
   "metadata": {
    "tags": []
   },
   "outputs": [
    {
     "name": "stdout",
     "output_type": "stream",
     "text": [
      "\u001b[1m11/11\u001b[0m \u001b[32m━━━━━━━━━━━━━━━━━━━━\u001b[0m\u001b[37m\u001b[0m \u001b[1m0s\u001b[0m 470us/step\n"
     ]
    }
   ],
   "source": [
    "w_data = reweight(x_data_withback)"
   ]
  },
  {
   "cell_type": "code",
   "execution_count": 14,
   "metadata": {
    "tags": []
   },
   "outputs": [
    {
     "data": {
      "text/plain": [
       "(0.0, 33919.466796643384)"
      ]
     },
     "execution_count": 14,
     "metadata": {},
     "output_type": "execute_result"
    },
    {
     "data": {
      "image/png": "[encoded data removed]",
      "text/plain": [
       "<Figure size 640x480 with 1 Axes>"
      ]
     },
     "metadata": {},
     "output_type": "display_data"
    }
   ],
   "source": [
    "#Now the full data/sim. including background\n",
    "binning = np.linspace(-5,5,20)\n",
    "ns,_,_=plt.hist(x_sim_withback[x_sim_withback!=dummyval],weights=w_synth_withback[x_sim_withback!=dummyval],bins=binning,alpha=0.5,label=\"Sim. w/ back\")\n",
    "_,_,_=plt.hist(x_background,bins=binning,weights=w_back,alpha=0.5,label=\"Sim. back.\")\n",
    "dplot=np.histogram(x_data_withback[x_data_withback!=dummyval],bins=binning)\n",
    "plt.plot(0.5*(dplot[1][1:]+dplot[1][:-1]),dplot[0],label=\"Data w/ back\",ls=\"\",marker='o',color=\"black\")\n",
    "\n",
    "dplot2=np.histogram(x_data[x_data!=dummyval],bins=binning)\n",
    "plt.plot(0.5*(dplot2[1][1:]+dplot2[1][:-1]),dplot2[0],label=\"Data w/o back\",ls=\"\",marker='o',color=\"black\",markerfacecolor=\"none\")\n",
    "\n",
    "_,_,_=plt.hist(x_background_real,bins=binning,alpha=0.5,label=\"Data back.\",histtype=\"step\",color=\"black\")\n",
    "_,_,_=plt.hist(x_data_withback[x_data_withback!=dummyval],weights=w_data[x_data_withback!=dummyval],bins=binning,alpha=0.5,label=\"Data w/ weights\",histtype=\"step\",color=\"black\",ls=\":\")\n",
    "plt.legend(frameon=False,loc=\"upper left\",ncols=2)\n",
    "plt.ylabel(\"Number of events\")\n",
    "plt.xlabel(\"x\")\n",
    "plt.ylim([0,1.8*np.max(ns)])"
   ]
  },
  {
   "cell_type": "markdown",
   "metadata": {},
   "source": [
    "## Now we can unfold the background-subtracted data."
   ]
  },
  {
   "cell_type": "code",
   "execution_count": 15,
   "metadata": {
    "ExecuteTime": {
     "end_time": "2020-11-17T03:49:29.597528Z",
     "start_time": "2020-11-17T03:49:29.594288Z"
    }
   },
   "outputs": [],
   "source": [
    "iterations = 4\n",
    "\n",
    "weights = np.empty(shape=(iterations, 2, len(x_gen)))\n",
    "# shape = (iteration, step, event)"
   ]
  },
  {
   "cell_type": "code",
   "execution_count": 16,
   "metadata": {},
   "outputs": [],
   "source": [
    "# initial iterative weights are ones\n",
    "weights_pull = np.ones(len(x_sim))\n",
    "weights_push = np.ones(len(x_sim))"
   ]
  },
  {
   "cell_type": "code",
   "execution_count": 17,
   "metadata": {},
   "outputs": [],
   "source": [
    "xvals_1 = np.concatenate((x_sim, x_data_withback))\n",
    "yvals_1 = np.concatenate((np.zeros(len(x_sim)), np.ones(len(x_data_withback))))\n",
    "\n",
    "xvals_2 = np.concatenate((x_gen, x_gen))\n",
    "yvals_2 = np.concatenate((np.zeros(len(x_gen)), np.ones(len(x_gen))))"
   ]
  },
  {
   "cell_type": "markdown",
   "metadata": {
    "tags": []
   },
   "source": [
    "Step 1 loss function is (weight MC to match data)\n",
    "\n",
    "$L[f] = -\\sum_\\text{Data} w_i \\log(f(x_i))-\\sum_\\text{MC}\\omega_iw_i\\log(1-f(x_i))$\n",
    "\n",
    "while for Step 2, the loss function is (reweight nominal MC to the weighted MC)\n",
    "\n",
    "$L[f] = -\\sum_\\text{MC} \\nu_iw_i \\log(f(z_i))-\\sum_\\text{MC}w_i\\log(1-f(z_i))$\n",
    "\n",
    "where $\\omega_i$ are the push weights from the previous step and $\\nu_i$ are the pull weights from the previous step.  $x$ is detector level and $z$ is particle level."
   ]
  },
  {
   "cell_type": "code",
   "execution_count": 18,
   "metadata": {
    "tags": []
   },
   "outputs": [],
   "source": [
    "iterations = 4"
   ]
  },
  {
   "cell_type": "code",
   "execution_count": 19,
   "metadata": {
    "ExecuteTime": {
     "end_time": "2020-11-17T04:28:20.621248Z",
     "start_time": "2020-11-17T03:49:29.711813Z"
    }
   },
   "outputs": [
    {
     "name": "stdout",
     "output_type": "stream",
     "text": [
      "\n",
      "ITERATION: 1\n",
      "\n",
      "STEP 1\n",
      "\n"
     ]
    },
    {
     "name": "stderr",
     "output_type": "stream",
     "text": [
      "2024-09-11 19:27:01.814059: I external/local_xla/xla/stream_executor/cuda/cuda_asm_compiler.cc:393] ptxas warning : Registers are spilled to local memory in function 'gemm_fusion_dot_163', 160 bytes spill stores, 160 bytes spill loads\n",
      "\n",
      "2024-09-11 19:27:01.849563: I external/local_xla/xla/stream_executor/cuda/cuda_asm_compiler.cc:393] ptxas warning : Registers are spilled to local memory in function 'gemm_fusion_dot_470', 100 bytes spill stores, 100 bytes spill loads\n",
      "\n",
      "2024-09-11 19:27:01.925809: I external/local_xla/xla/stream_executor/cuda/cuda_asm_compiler.cc:393] ptxas warning : Registers are spilled to local memory in function 'gemm_fusion_dot_470', 16 bytes spill stores, 16 bytes spill loads\n",
      "\n",
      "2024-09-11 19:27:01.930778: I external/local_xla/xla/stream_executor/cuda/cuda_asm_compiler.cc:393] ptxas warning : Registers are spilled to local memory in function 'gemm_fusion_dot_470', 132 bytes spill stores, 132 bytes spill loads\n",
      "\n",
      "2024-09-11 19:27:01.970542: I external/local_xla/xla/stream_executor/cuda/cuda_asm_compiler.cc:393] ptxas warning : Registers are spilled to local memory in function 'gemm_fusion_dot_470', 88 bytes spill stores, 88 bytes spill loads\n",
      "\n",
      "2024-09-11 19:27:02.099815: I external/local_xla/xla/stream_executor/cuda/cuda_asm_compiler.cc:393] ptxas warning : Registers are spilled to local memory in function 'gemm_fusion_dot_470', 200 bytes spill stores, 200 bytes spill loads\n",
      "\n",
      "2024-09-11 19:27:02.111097: I external/local_xla/xla/stream_executor/cuda/cuda_asm_compiler.cc:393] ptxas warning : Registers are spilled to local memory in function 'gemm_fusion_dot_470', 228 bytes spill stores, 228 bytes spill loads\n",
      "\n",
      "2024-09-11 19:27:02.141975: I external/local_xla/xla/stream_executor/cuda/cuda_asm_compiler.cc:393] ptxas warning : Registers are spilled to local memory in function 'gemm_fusion_dot_472', 208 bytes spill stores, 208 bytes spill loads\n",
      "\n",
      "2024-09-11 19:27:02.188780: I external/local_xla/xla/stream_executor/cuda/cuda_asm_compiler.cc:393] ptxas warning : Registers are spilled to local memory in function 'gemm_fusion_dot_472', 160 bytes spill stores, 160 bytes spill loads\n",
      "\n",
      "2024-09-11 19:27:03.487243: I external/local_xla/xla/stream_executor/cuda/cuda_asm_compiler.cc:393] ptxas warning : Registers are spilled to local memory in function 'gemm_fusion_dot_31', 272 bytes spill stores, 272 bytes spill loads\n",
      "\n"
     ]
    },
    {
     "name": "stdout",
     "output_type": "stream",
     "text": [
      "Epoch 10: early stopping\n",
      "Restoring model weights from the end of the best epoch: 1.\n",
      "\u001b[1m10/10\u001b[0m \u001b[32m━━━━━━━━━━━━━━━━━━━━\u001b[0m\u001b[37m\u001b[0m \u001b[1m0s\u001b[0m 458us/step\n",
      "\n",
      "STEP 2\n",
      "\n"
     ]
    },
    {
     "name": "stderr",
     "output_type": "stream",
     "text": [
      "2024-09-11 19:27:05.327762: I external/local_xla/xla/stream_executor/cuda/cuda_asm_compiler.cc:393] ptxas warning : Registers are spilled to local memory in function 'gemm_fusion_dot_344', 80 bytes spill stores, 80 bytes spill loads\n",
      "\n",
      "2024-09-11 19:27:05.363802: I external/local_xla/xla/stream_executor/cuda/cuda_asm_compiler.cc:393] ptxas warning : Registers are spilled to local memory in function 'gemm_fusion_dot_344', 136 bytes spill stores, 136 bytes spill loads\n",
      "\n",
      "2024-09-11 19:27:05.387545: I external/local_xla/xla/stream_executor/cuda/cuda_asm_compiler.cc:393] ptxas warning : Registers are spilled to local memory in function 'gemm_fusion_dot_165', 272 bytes spill stores, 272 bytes spill loads\n",
      "\n",
      "2024-09-11 19:27:05.422215: I external/local_xla/xla/stream_executor/cuda/cuda_asm_compiler.cc:393] ptxas warning : Registers are spilled to local memory in function 'gemm_fusion_dot_344', 100 bytes spill stores, 100 bytes spill loads\n",
      "\n",
      "2024-09-11 19:27:05.528938: I external/local_xla/xla/stream_executor/cuda/cuda_asm_compiler.cc:393] ptxas warning : Registers are spilled to local memory in function 'gemm_fusion_dot_344', 76 bytes spill stores, 76 bytes spill loads\n",
      "\n",
      "2024-09-11 19:27:05.535548: I external/local_xla/xla/stream_executor/cuda/cuda_asm_compiler.cc:393] ptxas warning : Registers are spilled to local memory in function 'gemm_fusion_dot_344', 20 bytes spill stores, 20 bytes spill loads\n",
      "\n",
      "2024-09-11 19:27:05.778200: I external/local_xla/xla/stream_executor/cuda/cuda_asm_compiler.cc:393] ptxas warning : Registers are spilled to local memory in function 'gemm_fusion_dot_346', 92 bytes spill stores, 92 bytes spill loads\n",
      "\n"
     ]
    },
    {
     "name": "stdout",
     "output_type": "stream",
     "text": [
      "Epoch 10: early stopping\n",
      "Restoring model weights from the end of the best epoch: 1.\n",
      "\u001b[1m10/10\u001b[0m \u001b[32m━━━━━━━━━━━━━━━━━━━━\u001b[0m\u001b[37m\u001b[0m \u001b[1m0s\u001b[0m 489us/step\n",
      "\n",
      "ITERATION: 2\n",
      "\n",
      "STEP 1\n",
      "\n"
     ]
    },
    {
     "name": "stderr",
     "output_type": "stream",
     "text": [
      "2024-09-11 19:27:08.984426: I external/local_xla/xla/stream_executor/cuda/cuda_asm_compiler.cc:393] ptxas warning : Registers are spilled to local memory in function 'gemm_fusion_dot_470', 100 bytes spill stores, 100 bytes spill loads\n",
      "\n",
      "2024-09-11 19:27:09.076828: I external/local_xla/xla/stream_executor/cuda/cuda_asm_compiler.cc:393] ptxas warning : Registers are spilled to local memory in function 'gemm_fusion_dot_470', 88 bytes spill stores, 88 bytes spill loads\n",
      "\n",
      "2024-09-11 19:27:09.124736: I external/local_xla/xla/stream_executor/cuda/cuda_asm_compiler.cc:393] ptxas warning : Registers are spilled to local memory in function 'gemm_fusion_dot_470', 124 bytes spill stores, 124 bytes spill loads\n",
      "\n",
      "2024-09-11 19:27:09.187126: I external/local_xla/xla/stream_executor/cuda/cuda_asm_compiler.cc:393] ptxas warning : Registers are spilled to local memory in function 'gemm_fusion_dot_163', 160 bytes spill stores, 160 bytes spill loads\n",
      "\n",
      "2024-09-11 19:27:09.317180: I external/local_xla/xla/stream_executor/cuda/cuda_asm_compiler.cc:393] ptxas warning : Registers are spilled to local memory in function 'gemm_fusion_dot_470', 16 bytes spill stores, 16 bytes spill loads\n",
      "\n",
      "2024-09-11 19:27:09.462911: I external/local_xla/xla/stream_executor/cuda/cuda_asm_compiler.cc:393] ptxas warning : Registers are spilled to local memory in function 'gemm_fusion_dot_470', 96 bytes spill stores, 96 bytes spill loads\n",
      "\n",
      "2024-09-11 19:27:09.644805: I external/local_xla/xla/stream_executor/cuda/cuda_asm_compiler.cc:393] ptxas warning : Registers are spilled to local memory in function 'gemm_fusion_dot_472', 160 bytes spill stores, 160 bytes spill loads\n",
      "\n",
      "2024-09-11 19:27:09.716331: I external/local_xla/xla/stream_executor/cuda/cuda_asm_compiler.cc:393] ptxas warning : Registers are spilled to local memory in function 'gemm_fusion_dot_472', 208 bytes spill stores, 208 bytes spill loads\n",
      "\n",
      "2024-09-11 19:27:09.718431: I external/local_xla/xla/stream_executor/cuda/cuda_asm_compiler.cc:393] ptxas warning : Registers are spilled to local memory in function 'gemm_fusion_dot_470', 228 bytes spill stores, 228 bytes spill loads\n",
      "\n",
      "2024-09-11 19:27:11.081817: I external/local_xla/xla/stream_executor/cuda/cuda_asm_compiler.cc:393] ptxas warning : Registers are spilled to local memory in function 'gemm_fusion_dot_31', 272 bytes spill stores, 272 bytes spill loads\n",
      "\n"
     ]
    },
    {
     "name": "stdout",
     "output_type": "stream",
     "text": [
      "Epoch 31: early stopping\n",
      "Restoring model weights from the end of the best epoch: 21.\n",
      "\u001b[1m10/10\u001b[0m \u001b[32m━━━━━━━━━━━━━━━━━━━━\u001b[0m\u001b[37m\u001b[0m \u001b[1m0s\u001b[0m 707us/step\n",
      "\n",
      "STEP 2\n",
      "\n",
      "Epoch 10: early stopping\n",
      "Restoring model weights from the end of the best epoch: 1.\n",
      "\u001b[1m10/10\u001b[0m \u001b[32m━━━━━━━━━━━━━━━━━━━━\u001b[0m\u001b[37m\u001b[0m \u001b[1m0s\u001b[0m 651us/step\n",
      "\n",
      "ITERATION: 3\n",
      "\n",
      "STEP 1\n",
      "\n"
     ]
    },
    {
     "name": "stderr",
     "output_type": "stream",
     "text": [
      "2024-09-11 19:27:16.136559: I external/local_xla/xla/stream_executor/cuda/cuda_asm_compiler.cc:393] ptxas warning : Registers are spilled to local memory in function 'gemm_fusion_dot_470', 92 bytes spill stores, 92 bytes spill loads\n",
      "\n",
      "2024-09-11 19:27:16.140270: I external/local_xla/xla/stream_executor/cuda/cuda_asm_compiler.cc:393] ptxas warning : Registers are spilled to local memory in function 'gemm_fusion_dot_470', 132 bytes spill stores, 132 bytes spill loads\n",
      "\n",
      "2024-09-11 19:27:16.146496: I external/local_xla/xla/stream_executor/cuda/cuda_asm_compiler.cc:393] ptxas warning : Registers are spilled to local memory in function 'gemm_fusion_dot_163', 272 bytes spill stores, 272 bytes spill loads\n",
      "\n",
      "2024-09-11 19:27:16.201333: I external/local_xla/xla/stream_executor/cuda/cuda_asm_compiler.cc:393] ptxas warning : Registers are spilled to local memory in function 'gemm_fusion_dot_470', 100 bytes spill stores, 100 bytes spill loads\n",
      "\n",
      "2024-09-11 19:27:16.272415: I external/local_xla/xla/stream_executor/cuda/cuda_asm_compiler.cc:393] ptxas warning : Registers are spilled to local memory in function 'gemm_fusion_dot_470', 16 bytes spill stores, 16 bytes spill loads\n",
      "\n",
      "2024-09-11 19:27:16.346435: I external/local_xla/xla/stream_executor/cuda/cuda_asm_compiler.cc:393] ptxas warning : Registers are spilled to local memory in function 'gemm_fusion_dot_470', 60 bytes spill stores, 60 bytes spill loads\n",
      "\n",
      "2024-09-11 19:27:16.492939: I external/local_xla/xla/stream_executor/cuda/cuda_asm_compiler.cc:393] ptxas warning : Registers are spilled to local memory in function 'gemm_fusion_dot_472', 160 bytes spill stores, 160 bytes spill loads\n",
      "\n",
      "2024-09-11 19:27:16.502771: I external/local_xla/xla/stream_executor/cuda/cuda_asm_compiler.cc:393] ptxas warning : Registers are spilled to local memory in function 'gemm_fusion_dot_470', 220 bytes spill stores, 220 bytes spill loads\n",
      "\n",
      "2024-09-11 19:27:16.586803: I external/local_xla/xla/stream_executor/cuda/cuda_asm_compiler.cc:393] ptxas warning : Registers are spilled to local memory in function 'gemm_fusion_dot_472', 208 bytes spill stores, 208 bytes spill loads\n",
      "\n",
      "2024-09-11 19:27:17.907709: I external/local_xla/xla/stream_executor/cuda/cuda_asm_compiler.cc:393] ptxas warning : Registers are spilled to local memory in function 'gemm_fusion_dot_31', 160 bytes spill stores, 160 bytes spill loads\n",
      "\n"
     ]
    },
    {
     "name": "stdout",
     "output_type": "stream",
     "text": [
      "Epoch 10: early stopping\n",
      "Restoring model weights from the end of the best epoch: 1.\n",
      "\u001b[1m10/10\u001b[0m \u001b[32m━━━━━━━━━━━━━━━━━━━━\u001b[0m\u001b[37m\u001b[0m \u001b[1m0s\u001b[0m 539us/step\n",
      "\n",
      "STEP 2\n",
      "\n",
      "Epoch 10: early stopping\n",
      "Restoring model weights from the end of the best epoch: 1.\n",
      "\u001b[1m10/10\u001b[0m \u001b[32m━━━━━━━━━━━━━━━━━━━━\u001b[0m\u001b[37m\u001b[0m \u001b[1m0s\u001b[0m 487us/step\n",
      "\n",
      "ITERATION: 4\n",
      "\n",
      "STEP 1\n",
      "\n"
     ]
    },
    {
     "name": "stderr",
     "output_type": "stream",
     "text": [
      "2024-09-11 19:27:22.138215: I external/local_xla/xla/stream_executor/cuda/cuda_asm_compiler.cc:393] ptxas warning : Registers are spilled to local memory in function 'gemm_fusion_dot_470', 16 bytes spill stores, 16 bytes spill loads\n",
      "\n",
      "2024-09-11 19:27:22.202840: I external/local_xla/xla/stream_executor/cuda/cuda_asm_compiler.cc:393] ptxas warning : Registers are spilled to local memory in function 'gemm_fusion_dot_163', 160 bytes spill stores, 160 bytes spill loads\n",
      "\n",
      "2024-09-11 19:27:22.247468: I external/local_xla/xla/stream_executor/cuda/cuda_asm_compiler.cc:393] ptxas warning : Registers are spilled to local memory in function 'gemm_fusion_dot_470', 100 bytes spill stores, 100 bytes spill loads\n",
      "\n",
      "2024-09-11 19:27:22.247509: I external/local_xla/xla/stream_executor/cuda/cuda_asm_compiler.cc:393] ptxas warning : Registers are spilled to local memory in function 'gemm_fusion_dot_470', 132 bytes spill stores, 132 bytes spill loads\n",
      "\n",
      "2024-09-11 19:27:22.285525: I external/local_xla/xla/stream_executor/cuda/cuda_asm_compiler.cc:393] ptxas warning : Registers are spilled to local memory in function 'gemm_fusion_dot_470', 96 bytes spill stores, 96 bytes spill loads\n",
      "\n",
      "2024-09-11 19:27:22.312209: I external/local_xla/xla/stream_executor/cuda/cuda_asm_compiler.cc:393] ptxas warning : Registers are spilled to local memory in function 'gemm_fusion_dot_470', 92 bytes spill stores, 92 bytes spill loads\n",
      "\n",
      "2024-09-11 19:27:22.510200: I external/local_xla/xla/stream_executor/cuda/cuda_asm_compiler.cc:393] ptxas warning : Registers are spilled to local memory in function 'gemm_fusion_dot_472', 140 bytes spill stores, 140 bytes spill loads\n",
      "\n",
      "2024-09-11 19:27:22.637282: I external/local_xla/xla/stream_executor/cuda/cuda_asm_compiler.cc:393] ptxas warning : Registers are spilled to local memory in function 'gemm_fusion_dot_472', 208 bytes spill stores, 208 bytes spill loads\n",
      "\n",
      "2024-09-11 19:27:22.729541: I external/local_xla/xla/stream_executor/cuda/cuda_asm_compiler.cc:393] ptxas warning : Registers are spilled to local memory in function 'gemm_fusion_dot_470', 228 bytes spill stores, 228 bytes spill loads\n",
      "\n",
      "2024-09-11 19:27:24.106685: I external/local_xla/xla/stream_executor/cuda/cuda_asm_compiler.cc:393] ptxas warning : Registers are spilled to local memory in function 'gemm_fusion_dot_31', 272 bytes spill stores, 272 bytes spill loads\n",
      "\n"
     ]
    },
    {
     "name": "stdout",
     "output_type": "stream",
     "text": [
      "Epoch 10: early stopping\n",
      "Restoring model weights from the end of the best epoch: 1.\n",
      "\u001b[1m10/10\u001b[0m \u001b[32m━━━━━━━━━━━━━━━━━━━━\u001b[0m\u001b[37m\u001b[0m \u001b[1m0s\u001b[0m 485us/step\n",
      "\n",
      "STEP 2\n",
      "\n",
      "Epoch 10: early stopping\n",
      "Restoring model weights from the end of the best epoch: 1.\n",
      "\u001b[1m10/10\u001b[0m \u001b[32m━━━━━━━━━━━━━━━━━━━━\u001b[0m\u001b[37m\u001b[0m \u001b[1m0s\u001b[0m 510us/step\n"
     ]
    }
   ],
   "source": [
    "for i in range(iterations):\n",
    "    print(\"\\nITERATION: {}\\n\".format(i + 1))\n",
    "\n",
    "    # STEP 1: classify Sim. (which is reweighted by weights_push) to Data\n",
    "    # weights reweighted Sim. --> Data\n",
    "    print(\"STEP 1\\n\")\n",
    "\n",
    "    weights_1 = np.concatenate((weights_push*w_synth, w_data))\n",
    "\n",
    "    X_train_1, X_test_1, Y_train_1, Y_test_1, w_train_1, w_test_1 = train_test_split(\n",
    "        xvals_1, yvals_1, weights_1) \n",
    "\n",
    "    model.compile(loss='binary_crossentropy',\n",
    "                  optimizer='Adam',\n",
    "                  metrics=['accuracy'],\n",
    "                  weighted_metrics=[])\n",
    "    model.fit(X_train_1[X_train_1!=dummyval],\n",
    "              Y_train_1[X_train_1!=dummyval],\n",
    "              sample_weight=w_train_1[X_train_1!=dummyval],\n",
    "              epochs=200,\n",
    "              batch_size=10000,\n",
    "              validation_data=(X_test_1[X_test_1!=dummyval], Y_test_1[X_test_1!=dummyval], w_test_1[X_test_1!=dummyval]),\n",
    "              callbacks=[earlystopping],\n",
    "              verbose=0)\n",
    "\n",
    "    weights_pull = weights_push * reweight(x_sim) \n",
    "    \n",
    "    #One option is to take the prior:\n",
    "    weights_pull[x_sim==dummyval] = 1. \n",
    "    \n",
    "    #Another (more complicated) option is to assign the average weight: <w|x_true>.  To do this, we need to estimate this quantity.\n",
    "    #xvals_1b = np.concatenate([x_gen[x_sim!=dummyval],x_gen[x_sim!=dummyval]])\n",
    "    #yvals_1b = np.concatenate([np.ones(len(x_gen[x_sim!=dummyval])),np.zeros(len(x_gen[x_sim!=dummyval]))])\n",
    "    #weights_1b = np.concatenate([weights_pull[x_sim!=dummyval],np.ones(len(x_gen[x_sim!=dummyval]))])\n",
    "    \n",
    "    #X_train_1b, X_test_1b, Y_train_1b, Y_test_1b, w_train_1b, w_test_1b = train_test_split(\n",
    "    #    xvals_1b, yvals_1b, weights_1b)    \n",
    "    \n",
    "    #model.compile(loss='binary_crossentropy',\n",
    "    #              optimizer='Adam',\n",
    "    #              metrics=['accuracy'])\n",
    "    #model.fit(X_train_1b,\n",
    "    #          Y_train_1b,\n",
    "    #          sample_weight=w_train_1b,\n",
    "    #          epochs=200,\n",
    "    #          batch_size=10000,\n",
    "    #          validation_data=(X_test_1b, Y_test_1b, w_test_1b),\n",
    "    #          callbacks=[earlystopping],\n",
    "    #          verbose=1)\n",
    "    \n",
    "    #average_vals = reweight(x_gen[x_sim==dummyval])\n",
    "    #weights_pull[x_sim==dummyval] = average_vals\n",
    "    ###\n",
    "    \n",
    "    weights[i, :1, :] = weights_pull\n",
    "\n",
    "    # STEP 2: classify Gen. to reweighted Gen. (which is reweighted by weights_pull)\n",
    "    # weights Gen. --> reweighted Gen.\n",
    "    print(\"\\nSTEP 2\\n\")\n",
    "\n",
    "    weights_2 = np.concatenate((w_synth, weights_pull*w_synth))\n",
    "\n",
    "    X_train_2, X_test_2, Y_train_2, Y_test_2, w_train_2, w_test_2 = train_test_split(\n",
    "        xvals_2, yvals_2, weights_2)\n",
    "\n",
    "    model.compile(loss='binary_crossentropy',\n",
    "                  optimizer='Adam',\n",
    "                  metrics=['accuracy'],\n",
    "                  weighted_metrics=[])\n",
    "    model.fit(X_train_2,\n",
    "              Y_train_2,\n",
    "              sample_weight=w_train_2,\n",
    "              epochs=200,\n",
    "              batch_size=2000,\n",
    "              validation_data=(X_test_2, Y_test_2, w_test_2),\n",
    "              callbacks=[earlystopping],\n",
    "              verbose=0)\n",
    "\n",
    "    weights_push = reweight(x_gen)\n",
    "    ###\n",
    "    #Need to do something with events that don't pass truth    \n",
    "    \n",
    "    #One option is to take the prior:\n",
    "    weights_push[x_gen==dummyval] = 1. \n",
    "    \n",
    "    #Another option is to assign the average weight: <w|x_reco>.  To do this, we need to estimate this quantity.\n",
    "    #xvals_1b = np.concatenate([x_sim[x_gen!=dummyval],x_sim[x_gen!=dummyval]])\n",
    "    #yvals_1b = np.concatenate([np.ones(len(x_sim[x_gen!=dummyval])),np.zeros(len(x_sim[x_gen!=dummyval]))])\n",
    "    #weights_1b = np.concatenate([weights_push[x_gen!=dummyval],np.ones(len(x_sim[x_gen!=dummyval]))])\n",
    "    \n",
    "    #X_train_1b, X_test_1b, Y_train_1b, Y_test_1b, w_train_1b, w_test_1b = train_test_split(\n",
    "    #    xvals_1b, yvals_1b, weights_1b)    \n",
    "    \n",
    "    #model.compile(loss='binary_crossentropy',\n",
    "    #              optimizer='Adam',\n",
    "    #              metrics=['accuracy'])\n",
    "    #model.fit(X_train_1b,\n",
    "    #          Y_train_1b,\n",
    "    #          sample_weight=w_train_1b,\n",
    "    #          epochs=200,\n",
    "    #          batch_size=10000,\n",
    "    #          validation_data=(X_test_1b, Y_test_1b, w_test_1b),\n",
    "    #          callbacks=[earlystopping],\n",
    "    #          verbose=1)\n",
    "    \n",
    "    #average_vals = reweight(x_sim[x_gen==dummyval])\n",
    "    #weights_push[x_gen==dummyval] = average_vals\n",
    "    ###    \n",
    "    \n",
    "    weights[i, 1:2, :] = weights_push"
   ]
  },
  {
   "cell_type": "code",
   "execution_count": 20,
   "metadata": {
    "tags": []
   },
   "outputs": [
    {
     "data": {
      "text/plain": [
       "(0.0, 33658.200000000004)"
      ]
     },
     "execution_count": 20,
     "metadata": {},
     "output_type": "execute_result"
    },
    {
     "data": {
      "image/png": "[encoded data removed]",
      "text/plain": [
       "<Figure size 640x480 with 1 Axes>"
      ]
     },
     "metadata": {},
     "output_type": "display_data"
    }
   ],
   "source": [
    "#Now the full data/sim. including background\n",
    "binning = np.linspace(-5,5,20)\n",
    "ns,_,_=plt.hist(x_gen[x_gen!=dummyval],weights=w_synth[x_gen!=dummyval],bins=binning,alpha=0.5,label=\"Gen.\")\n",
    "_,_,_=plt.hist(x_truth[x_truth!=dummyval],bins=binning,alpha=0.5,label=\"Truth\")\n",
    "_,_,_=plt.hist(x_gen[x_gen!=dummyval],weights=w_synth[x_gen!=dummyval]*weights[3, 1:2, :][0][x_gen!=dummyval],bins=binning,alpha=0.5,label=\"Unfolded\",histtype=\"step\",color=\"black\")\n",
    "\n",
    "plt.legend(frameon=False)\n",
    "plt.ylabel(\"Number of events\")\n",
    "plt.xlabel(\"x\")\n",
    "plt.ylim([0,1.8*np.max(ns)])"
   ]
  },
  {
   "cell_type": "code",
   "execution_count": null,
   "metadata": {},
   "outputs": [],
   "source": []
  }
 ],
 "metadata": {
  "kernelspec": {
   "display_name": "venv",
   "language": "python",
   "name": "python3"
  },
  "language_info": {
   "codemirror_mode": {
    "name": "ipython",
    "version": 3
   },
   "file_extension": ".py",
   "mimetype": "text/x-python",
   "name": "python",
   "nbconvert_exporter": "python",
   "pygments_lexer": "ipython3",
   "version": "3.11.4"
  },
  "notify_time": "0",
  "toc": {
   "base_numbering": 1,
   "nav_menu": {},
   "number_sections": false,
   "sideBar": true,
   "skip_h1_title": false,
   "title_cell": "Table of Contents",
   "title_sidebar": "Contents",
   "toc_cell": false,
   "toc_position": {},
   "toc_section_display": true,
   "toc_window_display": false
  }
 },
 "nbformat": 4,
 "nbformat_minor": 4
}
